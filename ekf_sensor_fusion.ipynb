{
 "cells": [
  {
   "cell_type": "markdown",
   "source": [
    "航迹推算是根据先前估计的速度方向和行进时间对位置进行估计\n",
    "但是更新所基于的测量值会收到系统和随机误差的影响\n",
    "\n",
    "由于过程的递归性质，每个估计都是基于先前的测量，导致误差会随着时间推移而积累。在古代航海往往需要仅仅依靠指南针和计程仪（ship's log 测量速度）在海中航行数月，显然很难做到精确定位。\n",
    "\n",
    "解决方案是一旦有机会就使用地理信息矫正位置估计。例如我们的眼前有两个灯塔，在不知道灯塔的距离的情况下，根据地图和指南针我们可以确定我们的位置应该在灯塔对应延长线的交点。\n",
    "\n",
    "我们对定位问题的定义为真值x是确定但不可知的，我们对x的最佳估计为$\\hat{x}$。同时我们还希望得到估计的不确定度用来衡量当前估计的好坏。\n",
    "\n",
    "因此我们往往用所有可能位置上的PDF来表示机器人的位置估计。每个点的函数值对应车辆在该位置的可能性。车辆最可能在接近均值的位置，而峰值越凸出，标准差越小，车辆的位置估计越精准。使用PDF描述位置的另一个好处是我们可以同时表示多个可能位置。\n",
    "\n",
    "推断问题也被称为逆向概率问题，通过处理依赖于x的数据，推断出x的值。对于我们的机器人定位问题，估计状态和真实状态的不确定度被表示为协方差矩阵。\n"
   ],
   "metadata": {
    "collapsed": false
   }
  },
  {
   "cell_type": "markdown",
   "source": [
    "估计机器人姿态的第一步是编写一个状态转移模型，它描述了车辆的状态如何从一个时间到下一个时间步的变化。\n",
    "对于2D问题，我们的状态是朝向和位置，输入是当前时刻到下一时刻的移动距离和朝向变化。实际的机电输入是用户指定的车轮的转速和朝向，并通过传感器反馈的信息计算实际移动距离和朝向变化(里程计)。\n",
    "<img src = \"./discrete_model.png\"/>\n",
    "简化状态模型为\n",
    "<img SRC = \"./simple_discrete_model.png\"/>\n",
    "\n",
    "第二步是添加里程计噪声。由于编码器和地面打滑等问题，实际的位置和朝向和里程计计算并不完全相等。\n",
    "<img SRC = \"./odometry.png\"/>\n",
    "一般情况下将里程计噪声建模为标准正态分布。\n"
   ],
   "metadata": {
    "collapsed": false
   }
  },
  {
   "cell_type": "markdown",
   "source": [],
   "metadata": {
    "collapsed": false
   }
  }
 ],
 "metadata": {
  "kernelspec": {
   "display_name": "Python 3",
   "language": "python",
   "name": "python3"
  },
  "language_info": {
   "codemirror_mode": {
    "name": "ipython",
    "version": 2
   },
   "file_extension": ".py",
   "mimetype": "text/x-python",
   "name": "python",
   "nbconvert_exporter": "python",
   "pygments_lexer": "ipython2",
   "version": "2.7.6"
  }
 },
 "nbformat": 4,
 "nbformat_minor": 0
}
