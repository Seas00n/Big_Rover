{
 "cells": [
  {
   "attachments": {},
   "cell_type": "markdown",
   "metadata": {},
   "source": [
    "# Assignment 13\n"
   ]
  },
  {
   "cell_type": "markdown",
   "metadata": {},
   "source": [
    "## Q1\n",
    "Regard the density of the cubic as $\\rho$\n",
    "\n",
    "The angular momentum of the cubic is given by\n",
    "$$\n",
    "\\phi = \\int_{V}r\\times L dr = \\int_{V} r\\times \\rho(\\omega \\times r)dr =\\int_{V} \\rho[r][r]^T\\omega dr = I\\omega\n",
    "$$\n",
    "$$\n",
    "I = \\int_{V}\\rho[r][r]^Tdr=\n",
    "\\left[\\begin{matrix}\\frac{b^{2} m}{3} + \\frac{c^{2} m}{3} & - \\frac{a b m}{4} \n",
    "& - \\frac{a c m}{4}\\\\- \\frac{a b m}{4} & \\frac{a^{2} m}{3} + \\frac{c^{2} m}{3}\n",
    " & - \\frac{b c m}{4}\\\\- \\frac{a c m}{4} & - \\frac{b c m}{4} & \\frac{a^{2} m}{3\n",
    "} + \\frac{b^{2} m}{3}\\end{matrix}\\right]\n",
    "$$"
   ]
  },
  {
   "cell_type": "code",
   "execution_count": 13,
   "metadata": {},
   "outputs": [
    {
     "name": "stdout",
     "output_type": "stream",
     "text": [
      "⎡ 2      2                            ⎤\n",
      "⎢b ⋅m   c ⋅m    -a⋅b⋅m       -a⋅c⋅m   ⎥\n",
      "⎢──── + ────    ───────      ───────  ⎥\n",
      "⎢ 3      3         4            4     ⎥\n",
      "⎢                                     ⎥\n",
      "⎢              2      2               ⎥\n",
      "⎢  -a⋅b⋅m     a ⋅m   c ⋅m    -b⋅c⋅m   ⎥\n",
      "⎢  ───────    ──── + ────    ───────  ⎥\n",
      "⎢     4        3      3         4     ⎥\n",
      "⎢                                     ⎥\n",
      "⎢                           2      2  ⎥\n",
      "⎢  -a⋅c⋅m       -b⋅c⋅m     a ⋅m   b ⋅m⎥\n",
      "⎢  ───────      ───────    ──── + ────⎥\n",
      "⎣     4            4        3      3  ⎦\n"
     ]
    }
   ],
   "source": [
    "from sympy import *\n",
    "a,b,c = symbols(['a','b','c'])\n",
    "x,y,z = symbols(['x','y','z'])\n",
    "rho = symbols('rho')\n",
    "r = [x,y,z]\n",
    "skew_r = Matrix([\n",
    "    [0,-r[2],r[1]],\n",
    "    [r[2],0,-r[0]],\n",
    "    [-r[1],r[0],0]\n",
    "])\n",
    "fun = rho*skew_r*skew_r.T\n",
    "I = integrate(fun,(x,0,a),(y,0,b),(z,0,c))\n",
    "m = a*b*c*rho\n",
    "I = expand(I).subs(m,'m')\n",
    "pprint(I)"
   ]
  },
  {
   "attachments": {},
   "cell_type": "markdown",
   "metadata": {},
   "source": [
    "## Q2\n",
    "\n",
    "<img src = 'Xuzuo.png'/>"
   ]
  },
  {
   "cell_type": "code",
   "execution_count": 14,
   "metadata": {},
   "outputs": [
    {
     "name": "stdout",
     "output_type": "stream",
     "text": [
      "J1=\n",
      "⎡-r₁⋅sin(θ)  0⎤\n",
      "⎢             ⎥\n",
      "⎢r₁⋅cos(θ)   0⎥\n",
      "⎢             ⎥\n",
      "⎣    0       0⎦\n",
      "J2=\n",
      "⎡-r⋅sin(θ)  cos(θ)⎤\n",
      "⎢                 ⎥\n",
      "⎢r⋅cos(θ)   sin(θ)⎥\n",
      "⎢                 ⎥\n",
      "⎣    0        0   ⎦\n",
      "v1=\n",
      "⎡-dtheta⋅r₁⋅sin(θ)⎤\n",
      "⎢                 ⎥\n",
      "⎢dtheta⋅r₁⋅cos(θ) ⎥\n",
      "⎢                 ⎥\n",
      "⎣        0        ⎦\n",
      "v2=\n",
      "⎡dr⋅cos(θ) - dtheta⋅r⋅sin(θ)⎤\n",
      "⎢                           ⎥\n",
      "⎢dr⋅sin(θ) + dtheta⋅r⋅cos(θ)⎥\n",
      "⎢                           ⎥\n",
      "⎣             0             ⎦\n"
     ]
    }
   ],
   "source": [
    "from sympy import *\n",
    "m1,m2 = symbols(['m1','m2'])\n",
    "r1 = symbols('r1')\n",
    "t = symbols('t')\n",
    "theta,dtheta,ddtheta = symbols(['theta','dtheta','ddtheta'])\n",
    "r,dr,ddr = symbols(['r','dr','ddr'])\n",
    "g = symbols('g')\n",
    "# The position of the points\n",
    "p1 = Matrix([r1*cos(theta),r1*sin(theta),0])\n",
    "p2 = Matrix([r*cos(theta),r*sin(theta),0])\n",
    "# The velocity of the points\n",
    "J1 = p1.jacobian(Matrix([theta,r]))\n",
    "print(\"J1=\")\n",
    "pprint(J1)\n",
    "J2 = p2.jacobian(Matrix([theta,r]))\n",
    "print(\"J2=\")\n",
    "pprint(J2)\n",
    "# The velocity\n",
    "v1 = J1*Matrix([dtheta,dr])\n",
    "v2 = J2*Matrix([dtheta,dr])\n",
    "print('v1=')\n",
    "pprint(v1)\n",
    "print('v2=')\n",
    "pprint(v2)\n"
   ]
  },
  {
   "cell_type": "code",
   "execution_count": 15,
   "metadata": {},
   "outputs": [
    {
     "name": "stdout",
     "output_type": "stream",
     "text": [
      "K=\n"
     ]
    },
    {
     "data": {
      "text/latex": [
       "$\\displaystyle 0.5 dr^{2} m_{2} + 0.5 dtheta^{2} m_{1} r_{1}^{2} + 0.5 dtheta^{2} m_{2} r^{2}$"
      ],
      "text/plain": [
       "0.5*dr**2*m2 + 0.5*dtheta**2*m1*r1**2 + 0.5*dtheta**2*m2*r**2"
      ]
     },
     "execution_count": 15,
     "metadata": {},
     "output_type": "execute_result"
    }
   ],
   "source": [
    "K = 1/2*(m1*v1.T*v1+m2*v2.T*v2)[0]\n",
    "print('K=')\n",
    "simplify(K)"
   ]
  },
  {
   "cell_type": "code",
   "execution_count": 16,
   "metadata": {},
   "outputs": [
    {
     "name": "stdout",
     "output_type": "stream",
     "text": [
      "P=\n"
     ]
    },
    {
     "data": {
      "text/latex": [
       "$\\displaystyle g \\left(m_{1} r_{1} + m_{2} r\\right) \\sin{\\left(\\theta \\right)}$"
      ],
      "text/plain": [
       "g*(m1*r1 + m2*r)*sin(theta)"
      ]
     },
     "execution_count": 16,
     "metadata": {},
     "output_type": "execute_result"
    }
   ],
   "source": [
    "P = m1*g*r1*sin(theta)+m2*g*r*sin(theta)\n",
    "print('P=')\n",
    "simplify(P)"
   ]
  },
  {
   "cell_type": "code",
   "execution_count": 17,
   "metadata": {},
   "outputs": [
    {
     "name": "stdout",
     "output_type": "stream",
     "text": [
      "L=\n"
     ]
    },
    {
     "data": {
      "text/latex": [
       "$\\displaystyle 0.5 dr^{2} m_{2} + 0.5 dtheta^{2} m_{1} r_{1}^{2} + 0.5 dtheta^{2} m_{2} r^{2} - 1.0 g m_{1} r_{1} \\sin{\\left(\\theta \\right)} - 1.0 g m_{2} r \\sin{\\left(\\theta \\right)}$"
      ],
      "text/plain": [
       "0.5*dr**2*m2 + 0.5*dtheta**2*m1*r1**2 + 0.5*dtheta**2*m2*r**2 - 1.0*g*m1*r1*sin(theta) - 1.0*g*m2*r*sin(theta)"
      ]
     },
     "execution_count": 17,
     "metadata": {},
     "output_type": "execute_result"
    }
   ],
   "source": [
    "L = K-P\n",
    "print('L=')\n",
    "simplify(L)"
   ]
  },
  {
   "cell_type": "code",
   "execution_count": 18,
   "metadata": {},
   "outputs": [
    {
     "data": {
      "text/latex": [
       "$\\displaystyle g \\left(- m_{1} r_{1} - m_{2} r\\right) \\cos{\\left(\\theta \\right)}$"
      ],
      "text/plain": [
       "g*(-m1*r1 - m2*r)*cos(theta)"
      ]
     },
     "execution_count": 18,
     "metadata": {},
     "output_type": "execute_result"
    }
   ],
   "source": [
    "dLdq1 = diff(L,theta)\n",
    "simplify(dLdq1)"
   ]
  },
  {
   "cell_type": "code",
   "execution_count": 19,
   "metadata": {},
   "outputs": [
    {
     "data": {
      "text/latex": [
       "$\\displaystyle 1.0 ddtheta m_{1} r_{1}^{2} + 1.0 ddtheta m_{2} r^{2} + 2.0 dr dtheta m_{2} r$"
      ],
      "text/plain": [
       "1.0*ddtheta*m1*r1**2 + 1.0*ddtheta*m2*r**2 + 2.0*dr*dtheta*m2*r"
      ]
     },
     "execution_count": 19,
     "metadata": {},
     "output_type": "execute_result"
    }
   ],
   "source": [
    "dLdq1p = diff(L,dtheta)\n",
    "theta_t = Function('theta_t')(t)\n",
    "dtheta_t = Function('dtheta_t')(t)\n",
    "r_t = Function('r_t')(t)\n",
    "dr_t = Function('dr_t')(t)\n",
    "replacement = list(zip([theta,dtheta,r,dr],[theta_t,dtheta_t,r_t,dr_t]))\n",
    "dLdq1p = dLdq1p.subs(replacement)\n",
    "dLdq1p_t = diff(dLdq1p,t) \n",
    "replacement = list(zip([diff(dtheta_t,t),diff(dr_t,t),dtheta_t,dr_t,diff(theta_t,t),diff(r_t,t),theta_t,r_t],\n",
    "                       [ddtheta,ddr,dtheta,dr,dtheta,dr,theta,r]))\n",
    "dLdq1p_t = expand(dLdq1p_t).subs(replacement)\n",
    "simplify(dLdq1p_t)"
   ]
  },
  {
   "cell_type": "code",
   "execution_count": 20,
   "metadata": {},
   "outputs": [
    {
     "data": {
      "text/latex": [
       "$\\displaystyle 1.0 ddtheta m_{1} r_{1}^{2} + 1.0 ddtheta m_{2} r^{2} + 2.0 dr dtheta m_{2} r + 1.0 g m_{1} r_{1} \\cos{\\left(\\theta \\right)} + 1.0 g m_{2} r \\cos{\\left(\\theta \\right)}$"
      ],
      "text/plain": [
       "1.0*ddtheta*m1*r1**2 + 1.0*ddtheta*m2*r**2 + 2.0*dr*dtheta*m2*r + 1.0*g*m1*r1*cos(theta) + 1.0*g*m2*r*cos(theta)"
      ]
     },
     "execution_count": 20,
     "metadata": {},
     "output_type": "execute_result"
    }
   ],
   "source": [
    "tau1 = dLdq1p_t-dLdq1\n",
    "simplify(tau1)"
   ]
  },
  {
   "cell_type": "code",
   "execution_count": 21,
   "metadata": {},
   "outputs": [
    {
     "data": {
      "text/latex": [
       "$\\displaystyle 1.0 m_{2} \\left(ddr - dtheta^{2} r + g \\sin{\\left(\\theta \\right)}\\right)$"
      ],
      "text/plain": [
       "1.0*m2*(ddr - dtheta**2*r + g*sin(theta))"
      ]
     },
     "execution_count": 21,
     "metadata": {},
     "output_type": "execute_result"
    }
   ],
   "source": [
    "dLdq2 = diff(L,r)\n",
    "dLdq2p = diff(L,dr)\n",
    "replacement = list(zip([theta,dtheta,r,dr],[theta_t,dtheta_t,r_t,dr_t]))\n",
    "dLdq2p = expand(dLdq2p).subs(replacement)\n",
    "dLdq2p_t = diff(dLdq2p,t) \n",
    "replacement = list(zip([diff(dtheta_t,t),diff(dr_t,t),dtheta_t,dr_t,diff(theta_t,t),diff(r_t,t),theta_t,r_t],\n",
    "                       [ddtheta,ddr,dtheta,dr,dtheta,dr,theta,r]))\n",
    "dLdq2p_t = expand(dLdq2p_t).subs(replacement)\n",
    "\n",
    "tau2 = dLdq2p_t-dLdq2\n",
    "simplify(tau2)"
   ]
  },
  {
   "cell_type": "code",
   "execution_count": 22,
   "metadata": {},
   "outputs": [
    {
     "data": {
      "text/latex": [
       "$\\displaystyle \\left[\\begin{matrix}1.0 m_{1} r_{1}^{2} + 1.0 m_{2} r^{2} & 0\\\\0 & 1.0 m_{2}\\end{matrix}\\right]$"
      ],
      "text/plain": [
       "Matrix([\n",
       "[1.0*m1*r1**2 + 1.0*m2*r**2,      0],\n",
       "[                         0, 1.0*m2]])"
      ]
     },
     "execution_count": 22,
     "metadata": {},
     "output_type": "execute_result"
    }
   ],
   "source": [
    "## Calculate D C g\n",
    "D = zeros(2,2)\n",
    "Cq = zeros(2,1)\n",
    "g = zeros(2,1)\n",
    "el = Matrix([tau1,tau2])\n",
    "qdd_term = Matrix([ddtheta,ddr])\n",
    "qd_term = Matrix([dtheta,dr])\n",
    "for i in range(2):\n",
    "    for k in range(2):\n",
    "        el[i] = simplify(el[i])\n",
    "        D[i,k] = expand(el[i]).coeff(qdd_term[k])\n",
    "        coefs = Poly(el[i],qd_term[k]).all_coeffs()\n",
    "        temp = 0\n",
    "        if len(coefs) > 1:\n",
    "            for j in range(0,len(coefs)-1):\n",
    "                temp = temp+coefs[j]*qd_term[k]**(len(coefs)-1+j)\n",
    "        Cq[i] += temp\n",
    "        el[i] = simplify(expand(el[i]-D[i,k]*qdd_term[k]-temp))\n",
    "    g[i] = el[i]\n",
    "simplify(D)"
   ]
  },
  {
   "cell_type": "code",
   "execution_count": 23,
   "metadata": {},
   "outputs": [
    {
     "data": {
      "text/latex": [
       "$\\displaystyle \\left[\\begin{matrix}2.0 dr dtheta m_{2} r\\\\- 1.0 dtheta^{2} m_{2} r\\end{matrix}\\right]$"
      ],
      "text/plain": [
       "Matrix([\n",
       "[ 2.0*dr*dtheta*m2*r],\n",
       "[-1.0*dtheta**2*m2*r]])"
      ]
     },
     "execution_count": 23,
     "metadata": {},
     "output_type": "execute_result"
    }
   ],
   "source": [
    "simplify(Cq)\n",
    "        "
   ]
  },
  {
   "cell_type": "code",
   "execution_count": 24,
   "metadata": {},
   "outputs": [
    {
     "data": {
      "text/latex": [
       "$\\displaystyle \\left[\\begin{matrix}1.0 g \\left(m_{1} r_{1} + m_{2} r\\right) \\cos{\\left(\\theta \\right)}\\\\1.0 g m_{2} \\sin{\\left(\\theta \\right)}\\end{matrix}\\right]$"
      ],
      "text/plain": [
       "Matrix([\n",
       "[1.0*g*(m1*r1 + m2*r)*cos(theta)],\n",
       "[            1.0*g*m2*sin(theta)]])"
      ]
     },
     "execution_count": 24,
     "metadata": {},
     "output_type": "execute_result"
    }
   ],
   "source": [
    "simplify(g)"
   ]
  },
  {
   "cell_type": "markdown",
   "metadata": {},
   "source": []
  }
 ],
 "metadata": {
  "kernelspec": {
   "display_name": "Python 3.8.10 64-bit",
   "language": "python",
   "name": "python3"
  },
  "language_info": {
   "codemirror_mode": {
    "name": "ipython",
    "version": 3
   },
   "file_extension": ".py",
   "mimetype": "text/x-python",
   "name": "python",
   "nbconvert_exporter": "python",
   "pygments_lexer": "ipython3",
   "version": "3.8.10"
  },
  "orig_nbformat": 4,
  "vscode": {
   "interpreter": {
    "hash": "916dbcbb3f70747c44a77c7bcd40155683ae19c65e1c03b4aa3499c5328201f1"
   }
  }
 },
 "nbformat": 4,
 "nbformat_minor": 2
}
