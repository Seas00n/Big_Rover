{
 "cells": [
  {
   "cell_type": "markdown",
   "metadata": {},
   "source": [
    "# Wheeled Kinematics\n",
    "Wheeled Velocity Kinematics is used to find the relationship between wheel speeds and platform velocity.\n"
   ]
  },
  {
   "cell_type": "markdown",
   "metadata": {},
   "source": [
    "## Coordinate Frames\n",
    "I: World Frame\n",
    "\n",
    "R: Robot Main Body Frame\n",
    "\n",
    "S: Steering Frame\n",
    "\n",
    "W: Wheel Frame"
   ]
  },
  {
   "cell_type": "markdown",
   "metadata": {},
   "source": [
    "## Velocity Kinematics"
   ]
  },
  {
   "cell_type": "markdown",
   "metadata": {},
   "source": [
    "$$\n",
    "\\begin{aligned}\n",
    "\\dot{p_w}\n",
    "&= \\dot{p_s}+\\omega_{s}\\times p_{sw}\n",
    "\\\\\n",
    "&= \\dot{p_r}+\\omega_{r}\\times p_{rs}+\\omega_{s}\\times p_{sw}\n",
    "\\\\\n",
    "&= \\dot{p_r}+\\omega_{r}\\times p_{rs}+(\\omega_{r}+\\omega_{s/r})\\times p_{sw}\\\\\n",
    "&= \\dot{p_r}+\\omega_{r}\\times p_{rs}\n",
    "\\end{aligned}\n",
    "$$\n",
    "Where $\\omega_{r}$ is the robot angular speed，$\\omega_{s/r}$ is the robot servor steering angular speed."
   ]
  },
  {
   "cell_type": "markdown",
   "metadata": {},
   "source": [
    "Express $\\dot{p_w}$ in the wheel frame.\n",
    "$$\n",
    "\\dot{^{w}p_w} = [0, \\dot{\\phi}r,0]^{T}\n",
    "$$\n",
    "If the wheel isn't rolling in plannar ground. Then there will be a terrain angle multiplied in the last two term.\n"
   ]
  },
  {
   "cell_type": "markdown",
   "metadata": {},
   "source": [
    "Express $\\dot{p_r}$ in the wheel frame.\n",
    "$$\n",
    "\\dot{{^{w}p_r}} = \n",
    "{^{w}\\omega_{I}}\\times {^{w}R_{I}}{^{I}p_r}+{^{w}R_{I}} \\dot{{^{I}p_r}}\n",
    "= {^{w}R_{s}}{^{s}R_{r}} {{^{r}R_{I}}} \\dot{{^{I}p_r}} = {^{I}R_{r}}{^{r}R_{s}} {{^{s}R_{r}}} \\dot{{^{I}p_r}}=R_z(\\theta)R_z(\\alpha)R_z(\\beta)[\\dot{x},\\dot{y},0]^T\n",
    "$$\n",
    "Where $\\theta$ is the angle of the robot body, $\\alpha$ is the angle of the steer relative to the robot body, which is a structure constant, $\\beta$ is the angle of the servor.\n",
    "\n",
    "\n"
   ]
  },
  {
   "cell_type": "markdown",
   "metadata": {},
   "source": [
    "$$\n",
    "^{w}\\omega_r \\times ^{w}p_{rs}=[^{w}\\omega_r]^{w}p_{rs}\n",
    "$$\n",
    "where\n",
    "$$\n",
    "^{w}\\omega_r ={^{w}R_I} [0,0,\\dot{\\theta}]^T = [0,0,\\dot{\\theta}]^T\n",
    "$$\n",
    "and \n",
    "$$\n",
    "^{w}p_{rs} = [lcos(\\beta),-lsin(\\beta),0]^T\n",
    "$$\n"
   ]
  },
  {
   "cell_type": "markdown",
   "metadata": {},
   "source": [
    "Finally we get the relationship between state $[\\dot{x},\\dot{y},\\dot{\\theta}]$ and joint input $[\\dot{\\phi},\\beta]$"
   ]
  },
  {
   "cell_type": "markdown",
   "metadata": {},
   "source": [
    "## Rolling Constraints and No-Sliding Constraints\n",
    "The motion of the robot can be projected to 4 wheels.\n",
    "\n",
    "Establish a frame {E} which has the same orientation with W and coinside with the origin of {R}.\n",
    "\n",
    "The body velocity in {E} is ${^ev_{r}}={^{r}R_{I}}[\\dot{x},\\dot{y},0] = [v_x,v_y,0]$\n",
    "\n",
    "The velocity of the wheel in {E} is $^ev_{w} = ^ev_{r}+^e\\omega _w\\times ^{e}p_{rs}$\n",
    "\n",
    "The rolling constraint and no-sliding constraint were satisfied in $\\hat{x}_{e}$ and $\\hat{y}_{e}$ direction by forcing $^ev_{w} = [0,\\dot{\\phi}r, 0]$. So that the rolling velocity in y is $\\dot{\\phi}r$ and the sliding velocity in x is 0.\n",
    "\n",
    "The equations of Rolling Constraint and No-Sliding Constraint after simplify will be same as result of velocity kinematics. And they both represent how the state moves in the differential system.\n",
    "\n",
    "\n"
   ]
  },
  {
   "cell_type": "markdown",
   "metadata": {},
   "source": [
    "## Rewrite the problem using state space.\n",
    "In a four wheel car, there will be 8 equations. Use coordinate $^{I}\\xi=[x,y,\\theta]$ to represent the state.\n",
    "$$\n",
    "\\begin{bmatrix}\n",
    "-sin(\\alpha_1+\\beta_1)& cos(\\alpha_1+\\beta_1)&l_1cos(\\beta_1) \\\\\n",
    "-sin(\\alpha_2+\\beta_2)& cos(\\alpha_2+\\beta_2)&l_2cos(\\beta_2) \\\\\n",
    "-sin(\\alpha_3+\\beta_3)& cos(\\alpha_3+\\beta_3)&l_3cos(\\beta_3) \\\\\n",
    "-sin(\\alpha_4+\\beta_4)& cos(\\alpha_4+\\beta_4)&l_4cos(\\beta_4) \\\\\n",
    "cos(\\alpha_1+\\beta_1)& sin(\\alpha_1+\\beta_1)&l_1sin(\\beta_1) \\\\\n",
    "cos(\\alpha_2+\\beta_2)& sin(\\alpha_2+\\beta_2)&l_2sin(\\beta_2) \\\\\n",
    "cos(\\alpha_3+\\beta_3)& sin(\\alpha_3+\\beta_3)&l_3sin(\\beta_3) \\\\\n",
    "cos(\\alpha_4+\\beta_4)& sin(\\alpha_4+\\beta_4)&l_4sin(\\beta_4)\n",
    "\\end{bmatrix}*\n",
    "\\begin{bmatrix}\n",
    "cos(\\theta) &sin(\\theta)&0\\\\\n",
    "-sin(\\theta) &cos(\\theta)&0\\\\\n",
    "0&0&1\n",
    "\\end{bmatrix}*\n",
    "\\begin{bmatrix}\n",
    "\\dot{x}\\\\\n",
    "\\dot{y}\\\\\n",
    "\\dot{\\theta}\n",
    "\\end{bmatrix}=\n",
    "\\begin{bmatrix}\n",
    "r_1&0&0&0\\\\\n",
    "0&r_2&0&0\\\\\n",
    "0&0&r_3&0\\\\\n",
    "0&0&0&r_4\\\\\n",
    "&0_{4\\times4}\n",
    "\\end{bmatrix}*\n",
    "\\begin{bmatrix}\n",
    "\\dot{\\phi_1}\\\\\n",
    "\\dot{\\phi_2}\\\\\n",
    "\\dot{\\phi_3}\\\\\n",
    "\\dot{\\phi_4}\\\\\n",
    "\\end{bmatrix}\n",
    "$$\n",
    "Given $[\\phi_1,\\phi_2,\\phi_3,\\phi_4]$ and $[\\beta_1,\\beta_2,\\beta_3,\\beta_4]$ to calculate the velocity of state is forward differential kinematics problem. \n",
    "\n",
    "\n",
    "If the wheel on the same side has same orientation, then $\\alpha_1+\\beta_1 = \\alpha_2+\\beta_2$. And $\\alpha_3+\\beta_3 = \\alpha_4+\\beta_4$\n",
    " \n"
   ]
  },
  {
   "cell_type": "code",
   "execution_count": 53,
   "metadata": {},
   "outputs": [
    {
     "name": "stdout",
     "output_type": "stream",
     "text": [
      "⎡-sin(α₁ + β₁ + θ)  cos(α₁ + β₁ + θ)  l⋅cos(β₁)⎤\n",
      "⎢                                              ⎥\n",
      "⎢-sin(α₂ + β₂ + θ)  cos(α₂ + β₂ + θ)  l⋅cos(β₂)⎥\n",
      "⎢                                              ⎥\n",
      "⎢cos(α₁ + β₁ + θ)   sin(α₁ + β₁ + θ)  l⋅sin(β₁)⎥\n",
      "⎢                                              ⎥\n",
      "⎣cos(α₂ + β₂ + θ)   sin(α₂ + β₂ + θ)  l⋅sin(β₂)⎦\n",
      "⎡dphi₁⋅r⎤\n",
      "⎢       ⎥\n",
      "⎢dphi₂⋅r⎥\n",
      "⎢       ⎥\n",
      "⎢   0   ⎥\n",
      "⎢       ⎥\n",
      "⎣   0   ⎦\n",
      "∅\n"
     ]
    }
   ],
   "source": [
    "from sympy import *\n",
    "phi_list = phi_1, phi_2, phi_3, phi_4 = symbols(['phi_1','phi_2','phi_3','phi_4'])\n",
    "beta_list = beta_1,beta_2,beta_3,beta_4 = symbols(['beta_1','beta_2','beta_3','beta_4'])\n",
    "alpha_list = alpha_1,alpha_2,alpha_3,alpha_4 = symbols(['alpha_1','alpha_2','alpha_3','alpha_4'])\n",
    "l,r = symbols(['l','r'])\n",
    "x,y,theta = symbols(['x','y','theta'])\n",
    "dx,dy,dtheta = symbols(['diff_x','diff_y','diff_z'])\n",
    "dphi_list = dphi_1, dphi_2, dphi_3, dphi_4 = symbols(['dphi_1','dphi_2','dphi_3','dphi_4'])\n",
    "A = zeros(4,3)\n",
    "for i in range(2):\n",
    "    sum = alpha_list[i]+beta_list[i]\n",
    "    A[i,:] = Matrix([-sin(sum),cos(sum),l*cos(beta_list[i])]).T\n",
    "    A[i+2,:] = Matrix([cos(sum),sin(sum),l*sin(beta_list[i])]).T\n",
    "B = zeros(4,2)\n",
    "B[0:2,0:2] = diag([r,r],unpack=True)\n",
    "R = Matrix([\n",
    "    [cos(theta),sin(theta),0],\n",
    "    [-sin(theta),cos(theta),0],\n",
    "    [0,0,1]\n",
    "])\n",
    "u = Matrix([dphi_1,dphi_2])\n",
    "A_ = A*R\n",
    "pprint(simplify(A_))\n",
    "B_ = B*u\n",
    "pprint(simplify(B_))\n",
    "syms = A_,B_"
   ]
  },
  {
   "cell_type": "code",
   "execution_count": null,
   "metadata": {},
   "outputs": [],
   "source": []
  },
  {
   "cell_type": "markdown",
   "metadata": {},
   "source": []
  }
 ],
 "metadata": {
  "kernelspec": {
   "display_name": "Python 3.8.10 64-bit",
   "language": "python",
   "name": "python3"
  },
  "language_info": {
   "codemirror_mode": {
    "name": "ipython",
    "version": 3
   },
   "file_extension": ".py",
   "mimetype": "text/x-python",
   "name": "python",
   "nbconvert_exporter": "python",
   "pygments_lexer": "ipython3",
   "version": "3.8.10"
  },
  "orig_nbformat": 4,
  "vscode": {
   "interpreter": {
    "hash": "916dbcbb3f70747c44a77c7bcd40155683ae19c65e1c03b4aa3499c5328201f1"
   }
  }
 },
 "nbformat": 4,
 "nbformat_minor": 2
}
