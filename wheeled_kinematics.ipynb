{
 "cells": [
  {
   "cell_type": "markdown",
   "metadata": {},
   "source": [
    "# Wheeled Kinematics\n",
    "Wheeled Velocity Kinematics is used to find the relationship between wheel speeds and platform velocity.\n"
   ]
  },
  {
   "cell_type": "markdown",
   "metadata": {},
   "source": [
    "## Velocity Kinematics"
   ]
  },
  {
   "cell_type": "markdown",
   "metadata": {},
   "source": [
    "Here we define $p_{w}$ as the position vector of the center of the wheel fixed system.\n",
    "$p_{s}$ is the position vector of the center of the steering system and $p_{r}$ is the position vector of the center of the rover-trunk system.\n",
    "Notice that for our rover model, the wheel motor is right below the steering motor. So $p_{sw}$ is parallel to z axis.\n",
    "$$\n",
    "\\begin{aligned}\n",
    "\\dot{p_w}\n",
    "&= \\dot{p_s}+\\omega_{s}\\times p_{sw}\n",
    "\\\\\n",
    "&= \\dot{p_r}+\\omega_{r}\\times p_{rs}+\\omega_{s}\\times p_{sw}\n",
    "\\\\\n",
    "&= \\dot{p_r}+\\omega_{r}\\times p_{rs}+(\\omega_{r}+\\omega_{s/r})\\times p_{sw}\\\\\n",
    "&= \\dot{p_r}+\\omega_{r}\\times p_{rs}\n",
    "\\end{aligned}\n",
    "$$\n",
    "Where $\\omega_{r}$ is the robot angular speed，$\\omega_{s/r}$ is the robot servor steering angular speed.\n",
    "Velocity Kinematics establish the basic relationship between the velocity of the wheel and the velocity of the rover. We need to express this equation to get the relationship between state vectors."
   ]
  },
  {
   "cell_type": "markdown",
   "metadata": {},
   "source": [
    "Express $\\dot{p_w}$ in the wheel frame.\n",
    "$$\n",
    "\\dot{^{w}p_w} = [0, \\dot{\\phi}r,0]^{T}\n",
    "$$\n",
    "If the wheel isn't rolling in plannar ground. Then there will be a terrain angle multiplied in the last two term.\n"
   ]
  },
  {
   "cell_type": "markdown",
   "metadata": {},
   "source": [
    "Express $\\dot{p_r}$ in the wheel frame.\n",
    "$$\n",
    "\\dot{{^{w}p_r}} = \n",
    "{^{w}R_{I}} \\dot{{^{I}p_r}}\n",
    "= {^{w}R_{s}}{^{s}R_{r}} {{^{r}R_{I}}} \\dot{{^{I}p_r}} = {^{I}R_{r}}{^{r}R_{s}} {{^{s}R_{r}}} \\dot{{^{I}p_r}}=R_z(\\theta)R_z(\\alpha)R_z(\\beta)[\\dot{x},\\dot{y},0]^T\n",
    "$$\n",
    "Where $\\theta$ is the angle of the robot body, $\\alpha$ is the angle of the steer relative to the robot body, which is a structure constant, $\\beta$ is the angle of the servor.\n",
    "\n",
    "\n"
   ]
  },
  {
   "cell_type": "markdown",
   "metadata": {},
   "source": [
    "$$\n",
    "^{w}\\omega_r \\times ^{w}p_{rs}=[^{w}\\omega_r]^{w}p_{rs}\n",
    "$$\n",
    "where\n",
    "$$\n",
    "^{w}\\omega_r ={^{w}R_I} [0,0,\\dot{\\theta}]^T = [0,0,\\dot{\\theta}]^T\n",
    "$$\n",
    "and \n",
    "$$\n",
    "^{w}p_{rs} = [lcos(\\beta),-lsin(\\beta),0]^T\n",
    "$$\n"
   ]
  },
  {
   "cell_type": "markdown",
   "metadata": {},
   "source": [
    "Finally we get the relationship between state $[\\dot{x},\\dot{y},\\dot{\\theta}]$ and joint input $[\\dot{\\phi},\\beta]$"
   ]
  },
  {
   "cell_type": "markdown",
   "metadata": {},
   "source": [
    "## Rolling Constraints and No-Sliding Constraints\n",
    "The motion of the robot can be projected to 4 wheels.\n",
    "\n",
    "Establish a frame {E} which has the same orientation with W and coinside with the origin of {R}.\n",
    "\n",
    "The body velocity in {E} is ${^ev_{r}}={^{r}R_{I}}[\\dot{x},\\dot{y},0] = [v_x,v_y,0]$\n",
    "\n",
    "The velocity of the wheel in {E} is $^ev_{w} = ^ev_{r}+^e\\omega _r\\times ^{e}p_{rs}$\n",
    "\n",
    "The rolling constraint and no-sliding constraint were satisfied in $\\hat{x}_{e}$ and $\\hat{y}_{e}$ direction by forcing $^ev_{w} = [0,\\dot{\\phi}r, 0]$. So that the rolling velocity in y is $\\dot{\\phi}r$ and the sliding velocity in x is 0.\n",
    "\n",
    "The equations of Rolling Constraint and No-Sliding Constraint after simplify will be same as result of velocity kinematics. And they both represent how the state moves in the differential system.\n",
    "\n",
    "\n"
   ]
  },
  {
   "attachments": {},
   "cell_type": "markdown",
   "metadata": {},
   "source": [
    "## Rewrite the problem using state space.\n",
    "In a four wheel car, there will be 8 equations. Use coordinate $^{I}\\xi=[x,y,\\theta]$ to represent the state.\n",
    "$$\n",
    "\\begin{bmatrix}\n",
    "-sin(\\alpha_1+\\beta_1)& cos(\\alpha_1+\\beta_1)&l_1cos(\\beta_1) \\\\\n",
    "-sin(\\alpha_2+\\beta_2)& cos(\\alpha_2+\\beta_2)&l_2cos(\\beta_2) \\\\\n",
    "-sin(\\alpha_3+\\beta_3)& cos(\\alpha_3+\\beta_3)&l_3cos(\\beta_3) \\\\\n",
    "-sin(\\alpha_4+\\beta_4)& cos(\\alpha_4+\\beta_4)&l_4cos(\\beta_4) \\\\\n",
    "cos(\\alpha_1+\\beta_1)& sin(\\alpha_1+\\beta_1)&l_1sin(\\beta_1) \\\\\n",
    "cos(\\alpha_2+\\beta_2)& sin(\\alpha_2+\\beta_2)&l_2sin(\\beta_2) \\\\\n",
    "cos(\\alpha_3+\\beta_3)& sin(\\alpha_3+\\beta_3)&l_3sin(\\beta_3) \\\\\n",
    "cos(\\alpha_4+\\beta_4)& sin(\\alpha_4+\\beta_4)&l_4sin(\\beta_4)\n",
    "\\end{bmatrix}*\n",
    "\\begin{bmatrix}\n",
    "cos(\\theta) &sin(\\theta)&0\\\\\n",
    "-sin(\\theta) &cos(\\theta)&0\\\\\n",
    "0&0&1\n",
    "\\end{bmatrix}*\n",
    "\\begin{bmatrix}\n",
    "\\dot{x}\\\\\n",
    "\\dot{y}\\\\\n",
    "\\dot{\\theta}\n",
    "\\end{bmatrix}=\n",
    "\\begin{bmatrix}\n",
    "r_1&0&0&0\\\\\n",
    "0&r_2&0&0\\\\\n",
    "0&0&r_3&0\\\\\n",
    "0&0&0&r_4\\\\\n",
    "&0_{4\\times4}\n",
    "\\end{bmatrix}*\n",
    "\\begin{bmatrix}\n",
    "\\dot{\\phi_1}\\\\\n",
    "\\dot{\\phi_2}\\\\\n",
    "\\dot{\\phi_3}\\\\\n",
    "\\dot{\\phi_4}\\\\\n",
    "\\end{bmatrix}\n",
    "$$\n",
    "Given $[\\phi_1,\\phi_2,\\phi_3,\\phi_4]$ and $[\\beta_1,\\beta_2,\\beta_3,\\beta_4]$ to calculate the velocity of state is forward differential kinematics problem.\n",
    "\n",
    "The goal is to calculate the solution of $^{r}\\xi_I$. The left side can be seen as a combination of the column of matrix $J_1$. Rank is the smallest dimension of column space or row space. The dimension of right hand side is\n",
    "$rank(J_2\\dot(\\phi))$ is N. There isn't always a combination of 3 vectors in $2N\\times1$ space. So the solution not always exists.\n",
    "\n",
    "\n",
    "From geometry, the ICR of the car body is given by any 2 of the last 4 rows of the matrix.\n",
    "\n",
    "Only when null-space motion lines of all the wheels interacts together can the constraint equations have a unique solution.\n",
    "<img src = \"./ICR.png\"/>\n",
    "\n",
    "To simplify the equation, we always choose to let the latter wheels be in a fixed direction, and the forward wheels decide the position of ICR.\n",
    "\n",
    "<img src = \"./ICRW.png\"/>\n",
    "\n",
    "Then the constraint equation should be simplified as \n",
    "\n"
   ]
  },
  {
   "cell_type": "markdown",
   "metadata": {},
   "source": []
  }
 ],
 "metadata": {
  "kernelspec": {
   "display_name": "Python 3.8.10 64-bit",
   "language": "python",
   "name": "python3"
  },
  "language_info": {
   "codemirror_mode": {
    "name": "ipython",
    "version": 3
   },
   "file_extension": ".py",
   "mimetype": "text/x-python",
   "name": "python",
   "nbconvert_exporter": "python",
   "pygments_lexer": "ipython3",
   "version": "3.8.10"
  },
  "orig_nbformat": 4,
  "vscode": {
   "interpreter": {
    "hash": "916dbcbb3f70747c44a77c7bcd40155683ae19c65e1c03b4aa3499c5328201f1"
   }
  }
 },
 "nbformat": 4,
 "nbformat_minor": 2
}
